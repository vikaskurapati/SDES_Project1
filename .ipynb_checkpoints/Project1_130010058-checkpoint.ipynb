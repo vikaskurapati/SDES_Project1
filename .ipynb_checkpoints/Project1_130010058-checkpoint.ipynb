{
 "metadata": {
  "name": "",
  "signature": "sha256:510862b2195a6823507797846c08cfce337a1f246a55e7c158bb2e49d5af18b6"
 },
 "nbformat": 3,
 "nbformat_minor": 0,
 "worksheets": [
  {
   "cells": [
    {
     "cell_type": "heading",
     "level": 1,
     "metadata": {},
     "source": [
      "SDES Project1: LC Tank with a resistance(constant voltage applied)"
     ]
    },
    {
     "cell_type": "code",
     "collapsed": false,
     "input": [
      "import numpy as np\n",
      "from matplotlib import pyplot as plt"
     ],
     "language": "python",
     "metadata": {},
     "outputs": [],
     "prompt_number": 2
    },
    {
     "cell_type": "heading",
     "level": 2,
     "metadata": {},
     "source": [
      "C is capacitance of the capacitor, L is inducatance of inductor, R is resistor's resistance,V is the voltage applied, V0 is initial voltage across capacitor and I0 being initial current across the inductor, tf is the total time and n is the number of time steps"
     ]
    },
    {
     "cell_type": "code",
     "collapsed": false,
     "input": [
      "def problem(C,L,R,V,V0,I0,tf,n):\n",
      "    det = ((R*R)/(L*L)) - (4/(L*C)) + 0.0j\n",
      "    t = np.linspace(0.,tf,n)\n",
      "    if abs(det) == 0:\n",
      "        D1 = (I0/C)*np.exp(1/(2.0*R*C))\n",
      "        D2 = (V0 - V)*np.exp(1/(2.0*R*C))\n",
      "        V_matrix = V + np.exp(-(1/2.0*R*C)*t)*(D1*t + D2) \n",
      "    else :\n",
      "        s1 = -0.5*R/L + 0.5*np.sqrt(det)\n",
      "        s2 = -0.5*R/L - 0.5*np.sqrt(det)\n",
      "        A1 = ((I0/C) - (V0 - V)*s2)/(s1 - s2)\n",
      "        A2 = ((I0/C) - (V0 - V)*s1)/(s2 - s1)\n",
      "        V_matrix = V + A1*np.exp(s1*t) + A2*np.exp(s2*t)\n",
      "    return V_matrix,t\n"
     ],
     "language": "python",
     "metadata": {},
     "outputs": [],
     "prompt_number": 25
    },
    {
     "cell_type": "code",
     "collapsed": false,
     "input": [
      "def plot(t,V):\n",
      "    plt.plot(t,V)\n",
      "    plt.show()"
     ],
     "language": "python",
     "metadata": {},
     "outputs": [],
     "prompt_number": 26
    },
    {
     "cell_type": "code",
     "collapsed": false,
     "input": [
      "if __name__ == '__main__':\n",
      "    V,t = problem(1.0,1.0,4.0,10.0,10.0,1.0,100.0,1000)\n",
      "    plot(t,V)"
     ],
     "language": "python",
     "metadata": {},
     "outputs": [],
     "prompt_number": 29
    },
    {
     "cell_type": "code",
     "collapsed": false,
     "input": [],
     "language": "python",
     "metadata": {},
     "outputs": []
    }
   ],
   "metadata": {}
  }
 ]
}