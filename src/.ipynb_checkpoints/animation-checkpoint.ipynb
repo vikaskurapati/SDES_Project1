{
 "cells": [
  {
   "cell_type": "markdown",
   "metadata": {},
   "source": [
    "# This file will generate an mp4 file which contains the movement of the pendulum"
   ]
  },
  {
   "cell_type": "code",
   "execution_count": 1,
   "metadata": {
    "collapsed": true
   },
   "outputs": [],
   "source": [
    "import numpy as np\n",
    "import matplotlib\n",
    "matplotlib.use(\"Agg\")\n",
    "import matplotlib.pyplot as plt\n",
    "import matplotlib.animation as manimation\n",
    "g = 9.8"
   ]
  },
  {
   "cell_type": "markdown",
   "metadata": {},
   "source": [
    "# The following function get_pendulum will return the coordinates of the pendulum at a given angular position $\\theta$ which will be used in the animation"
   ]
  },
  {
   "cell_type": "code",
   "execution_count": 2,
   "metadata": {
    "collapsed": true
   },
   "outputs": [],
   "source": [
    "def get_pendulum(theta, length):\n",
    "    l = np.linspace(0.0, 0.05-length, 21) \n",
    "    rod = l*np.exp(1.0j*(theta + np.pi/2.0))\n",
    "    angle = np.linspace(0.5*np.pi, 2.5*np.pi, 21)\n",
    "    bob = -length*np.exp(1.0j*(theta + np.pi/2.0)) + 0.05*np.exp(1.0j*angle)\n",
    "    pendulum = np.concatenate([rod, bob])\n",
    "    return pendulum"
   ]
  },
  {
   "cell_type": "markdown",
   "metadata": {},
   "source": [
    "# The following function motion_of_pendulum will return the angular position  as a list by taking time of simulation in s, time step in s, mass of the bob in kg, damping constant value in $\\frac{kg}{s}$, length of the pendulum in m, $\\dot{\\theta}(0)$ value in $\\frac{rad}{s}$ and $\\theta(0)$ value in rad"
   ]
  },
  {
   "cell_type": "code",
   "execution_count": 3,
   "metadata": {
    "collapsed": true
   },
   "outputs": [],
   "source": [
    "def motion_of_pendulum(time_simulation, time_step, mass, damping, length, \n",
    "                       initial_angular_vel, initial_angular_pos):\n",
    "    \n",
    "    k1 = 0.5*(-damping/mass + np.sqrt((damping/mass)**2 - 4.0*g/length + 0.0j))\n",
    "    k2 = 0.5*(-damping/mass - np.sqrt((damping/mass)**2 - 4.0*g/length + 0.0j))\n",
    "    c1 = (initial_angular_vel - k2*initial_angular_pos)/(k1 - k2)\n",
    "    c2 = (k1*initial_angular_pos - initial_angular_vel)/(k1 - k2)\n",
    "    \n",
    "    t = 0.0\n",
    "    time = [t]\n",
    "    position = [initial_angular_pos]\n",
    "    velocity = [initial_angular_vel]\n",
    "\n",
    "    while t <= time_simulation:\n",
    "        t += time_step\n",
    "        time.append(t)\n",
    "        ang_pos = c1*np.exp(k1*t) + c2*np.exp(k2*t)\n",
    "        ang_vel = c1*k1*np.exp(k1*t) + c2*k2*np.exp(k2*t)\n",
    "        position.append(ang_pos)\n",
    "        velocity.append(ang_vel)\n",
    "        \n",
    "    return position, time"
   ]
  },
  {
   "cell_type": "markdown",
   "metadata": {},
   "source": [
    "# The following function is used to make the animation. To run it ffmpeg is required"
   ]
  },
  {
   "cell_type": "code",
   "execution_count": 49,
   "metadata": {
    "collapsed": false
   },
   "outputs": [],
   "source": [
    "def animate(time_simulation=50.0, time_step=0.1, mass=0.1, damping=0.04, length=1.0, \n",
    "         initial_angular_vel=0.0, initial_angular_pos=0.2):\n",
    "    \n",
    "    ang_pos, time = motion_of_pendulum(time_simulation, time_step, mass, damping, length, \n",
    "                                                initial_angular_vel, initial_angular_pos)\n",
    "\n",
    "    fig = plt.figure(figsize=(17.0, 9.0))\n",
    "    plt.clf()\n",
    "    plt.title(\"Motion of the pendulum\", fontweight='bold', fontsize=24)\n",
    "    plt.xlabel(\"Length = %s m, Damping constant = %s kg/s and Mass of the bob = %s kg\" % \n",
    "               (length, damping, mass), fontsize=20)\n",
    "    plt.axis([-length, length, -length*1.2, 0.0])\n",
    "    l, = plt.plot([], [])\n",
    "\n",
    "    with writer.saving(fig, \"../output/130010057_animation.mp4\", 100):\n",
    "        for i in range(100):\n",
    "            pendulum = get_pendulum(ang_pos[i], length)\n",
    "            x = pendulum.real\n",
    "            y = pendulum.imag\n",
    "            l.set_data(x, y)\n",
    "            writer.grab_frame()"
   ]
  },
  {
   "cell_type": "code",
   "execution_count": 50,
   "metadata": {
    "collapsed": false
   },
   "outputs": [],
   "source": [
    "if __name__ == '__main__':\n",
    "    animate()"
   ]
  },
  {
   "cell_type": "code",
   "execution_count": null,
   "metadata": {
    "collapsed": true
   },
   "outputs": [],
   "source": []
  }
 ],
 "metadata": {
  "kernelspec": {
   "display_name": "Python 2",
   "language": "python",
   "name": "python2"
  },
  "language_info": {
   "codemirror_mode": {
    "name": "ipython",
    "version": 2
   },
   "file_extension": ".py",
   "mimetype": "text/x-python",
   "name": "python",
   "nbconvert_exporter": "python",
   "pygments_lexer": "ipython2",
   "version": "2.7.10"
  }
 },
 "nbformat": 4,
 "nbformat_minor": 0
}
