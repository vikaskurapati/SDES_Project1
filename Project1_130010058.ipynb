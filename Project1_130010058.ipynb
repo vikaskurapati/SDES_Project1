{
 "metadata": {
  "name": "",
  "signature": "sha256:c9be4a9844bf8ffa65af2ce66e3225c4112ea4fbef5278bfa898e5294d8b6844"
 },
 "nbformat": 3,
 "nbformat_minor": 0,
 "worksheets": [
  {
   "cells": [
    {
     "cell_type": "heading",
     "level": 1,
     "metadata": {},
     "source": [
      "SDES Project1: LC Tank with a resistance(constant voltage applied)"
     ]
    },
    {
     "cell_type": "code",
     "collapsed": false,
     "input": [
      "%pylab inline"
     ],
     "language": "python",
     "metadata": {},
     "outputs": [
      {
       "output_type": "stream",
       "stream": "stdout",
       "text": [
        "Populating the interactive namespace from numpy and matplotlib\n"
       ]
      }
     ],
     "prompt_number": 100
    },
    {
     "cell_type": "code",
     "collapsed": false,
     "input": [
      "import numpy as np\n",
      "from matplotlib import pyplot as plt\n",
      "from matplotlib import animation\n",
      "from matplotlib import rc\n",
      "from IPython.display import HTML\n",
      "from tempfile import NamedTemporaryFile"
     ],
     "language": "python",
     "metadata": {},
     "outputs": [],
     "prompt_number": 101
    },
    {
     "cell_type": "heading",
     "level": 6,
     "metadata": {},
     "source": [
      "C is capacitance of the capacitor, L is inducatance of inductor, R is resistor's resistance,V is the voltage applied, $V_0$ is initial voltage across capacitor and $I_0$ being initial current across the inductor, $t_f$ is the total time and n is the number of time steps"
     ]
    },
    {
     "cell_type": "code",
     "collapsed": false,
     "input": [
      "def problem(C,L,R,V,V0,I0,tf,n):\n",
      "    det = ((R*R)/(L*L)) - (4/(L*C)) + 0.0j\n",
      "    t = np.linspace(0.,tf,n)\n",
      "    if abs(det) == 0:\n",
      "        D1 = (I0/C)*np.exp(1/(2.0*R*C))\n",
      "        D2 = (V0 - V)*np.exp(1/(2.0*R*C))\n",
      "        V_matrix = V + np.exp(-(1/2.0*R*C)*t)*(D1*t + D2) \n",
      "    else :\n",
      "        s1 = -0.5*R/L + 0.5*np.sqrt(det)\n",
      "        s2 = -0.5*R/L - 0.5*np.sqrt(det)\n",
      "        A1 = ((I0/C) - (V0 - V)*s2)/(s1 - s2)\n",
      "        A2 = ((I0/C) - (V0 - V)*s1)/(s2 - s1)\n",
      "        V_matrix = V + A1*np.exp(s1*t) + A2*np.exp(s2*t)\n",
      "    return V_matrix,t\n"
     ],
     "language": "python",
     "metadata": {},
     "outputs": [],
     "prompt_number": 102
    },
    {
     "cell_type": "code",
     "collapsed": false,
     "input": [
      "def plot(t,V):\n",
      "    plt.plot(t,V)\n",
      "    plt.show()"
     ],
     "language": "python",
     "metadata": {},
     "outputs": [],
     "prompt_number": 103
    },
    {
     "cell_type": "code",
     "collapsed": false,
     "input": [
      "def animate(X,Y,name):\n",
      "    fig = plt.figure()\n",
      "    ax = plt.axes(xlim=(np.amin(X), np.amax(X)+0.1), ylim=(np.amin(Y)-0.1, np.amax(Y)+0.1))\n",
      "    line, = ax.plot([], [], lw=2)\n",
      "\n",
      "    def init():\n",
      "        line.set_data([],[])\n",
      "        return line,\n",
      "    def animate(i):\n",
      "        x = X[:i]\n",
      "        y = Y[:i]\n",
      "        #print x,y\n",
      "        line.set_data(x, y)\n",
      "        return line,\n",
      "    \n",
      "    anim = animation.FuncAnimation(fig, animate, init_func=init,\n",
      "                               frames=200, interval=20, blit=True)\n",
      "    #HTML(anim.to_html5_video())\n",
      "    anim.save(name+'.mp4', fps=30, extra_args=['-vcodec', 'libx264'])\n",
      "    display_animation(anim)\n",
      "    animation.Animation._repr_html_ = anim_to_html"
     ],
     "language": "python",
     "metadata": {},
     "outputs": [],
     "prompt_number": 104
    },
    {
     "cell_type": "code",
     "collapsed": false,
     "input": [
      "VIDEO_TAG = \"\"\"<video controls>\n",
      " <source src=\"data:video/x-m4v;base64,{0}\" type=\"video/mp4\">\n",
      " Your browser does not support the video tag.\n",
      "</video>\"\"\"\n",
      "\n",
      "def anim_to_html(anim):\n",
      "    if not hasattr(anim, '_encoded_video'):\n",
      "        with NamedTemporaryFile(suffix='.mp4') as f:\n",
      "            anim.save(f.name, fps=20, extra_args=['-vcodec', 'libx264'])\n",
      "            video = open(f.name, \"rb\").read()\n",
      "        anim._encoded_video = video.encode(\"base64\")\n",
      "    \n",
      "    return VIDEO_TAG.format(anim._encoded_video)"
     ],
     "language": "python",
     "metadata": {},
     "outputs": [],
     "prompt_number": 105
    },
    {
     "cell_type": "code",
     "collapsed": false,
     "input": [
      "def display_animation(anim):\n",
      "    plt.close(anim._fig)\n",
      "    return HTML(anim_to_html(anim))"
     ],
     "language": "python",
     "metadata": {},
     "outputs": [],
     "prompt_number": 106
    },
    {
     "cell_type": "code",
     "collapsed": false,
     "input": [
      "if __name__ == '__main__':\n",
      "    V,t = problem(1.0, 1.0, 1.0, 10.0, 10.0, 1.0, 20.0, 200)\n",
      "    plot(t,V)\n",
      "    animate(t,V,'Votage')"
     ],
     "language": "python",
     "metadata": {},
     "outputs": [
      {
       "metadata": {},
       "output_type": "display_data",
       "png": "[encoded data removed]",
       "text": [
        "<matplotlib.figure.Figure at 0x7f53b42dca10>"
       ]
      }
     ],
     "prompt_number": 108
    },
    {
     "cell_type": "code",
     "collapsed": false,
     "input": [],
     "language": "python",
     "metadata": {},
     "outputs": []
    }
   ],
   "metadata": {}
  }
 ]
}