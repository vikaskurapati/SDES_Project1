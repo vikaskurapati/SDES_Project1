{
 "cells": [
  {
   "cell_type": "markdown",
   "metadata": {},
   "source": [
    "# SDES Project1: LC Tank with a resistance(constant voltage applied)"
   ]
  },
  {
   "cell_type": "code",
   "execution_count": 29,
   "metadata": {
    "collapsed": false
   },
   "outputs": [],
   "source": [
    "%matplotlib inline"
   ]
  },
  {
   "cell_type": "code",
   "execution_count": 30,
   "metadata": {
    "collapsed": false
   },
   "outputs": [],
   "source": [
    "import numpy as np\n",
    "from matplotlib import pyplot as plt\n",
    "from matplotlib import animation\n",
    "from matplotlib import rc\n",
    "from IPython.display import HTML\n",
    "from tempfile import NamedTemporaryFile"
   ]
  },
  {
   "cell_type": "markdown",
   "metadata": {},
   "source": [
    "###### C is capacitance of the capacitor, L is inducatance of inductor, R is resistor's resistance,V is the voltage applied, $V_0$ is initial voltage across capacitor and $I_0$ being initial current across the inductor, $t_f$ is the total time and n is the number of time steps"
   ]
  },
  {
   "cell_type": "code",
   "execution_count": 31,
   "metadata": {
    "collapsed": false
   },
   "outputs": [],
   "source": [
    "def problem(C,L,R,V,V0,I0,tf,n):\n",
    "    det = ((R*R)/(L*L)) - (4/(L*C)) + 0.0j\n",
    "    t = np.linspace(0.,tf,n)\n",
    "    if abs(det) == 0:\n",
    "        D1 = (I0/C)*np.exp(1/(2.0*R*C))\n",
    "        D2 = (V0 - V)*np.exp(1/(2.0*R*C))\n",
    "        V_matrix = V + np.exp(-(1/2.0*R*C)*t)*(D1*t + D2)\n",
    "        i_matrix = C*np.exp(-t/(2.0*R*C))*(D1 - (D1*t + D2)/(2.0*R*C)) \n",
    "    else :\n",
    "        s1 = -0.5*R/L + 0.5*np.sqrt(det)\n",
    "        s2 = -0.5*R/L - 0.5*np.sqrt(det)\n",
    "        A1 = ((I0/C) - (V0 - V)*s2)/(s1 - s2)\n",
    "        A2 = ((I0/C) - (V0 - V)*s1)/(s2 - s1)\n",
    "        V_matrix = V + A1*np.exp(s1*t) + A2*np.exp(s2*t)\n",
    "        i_matrix = C*(A1*s1*np.exp(s1*t) + A2*s2*np.exp(s2*t))\n",
    "    return V_matrix,i_matrix,t\n"
   ]
  },
  {
   "cell_type": "code",
   "execution_count": 32,
   "metadata": {
    "collapsed": false
   },
   "outputs": [],
   "source": [
    "def plot(t,V):\n",
    "    plt.plot(t,V)\n",
    "    plt.show()"
   ]
  },
  {
   "cell_type": "code",
   "execution_count": 33,
   "metadata": {
    "collapsed": false
   },
   "outputs": [],
   "source": [
    "def animate(X,Y,name):\n",
    "    fig = plt.figure()\n",
    "    ax = plt.axes(xlim=(np.amin(X), np.amax(X)+0.1), ylim=(np.amin(Y)-0.1, np.amax(Y)+0.1))\n",
    "    line, = ax.plot([], [], lw=2)\n",
    "\n",
    "    def init():\n",
    "        line.set_data([],[])\n",
    "        return line,\n",
    "    def animate(i):\n",
    "        x = X[:i]\n",
    "        y = Y[:i]\n",
    "        line.set_data(x, y)\n",
    "        return line,\n",
    "    \n",
    "    anim = animation.FuncAnimation(fig, animate, init_func=init,\n",
    "                               frames=200, interval=20, blit=True)\n",
    "    #HTML(anim.to_html5_video())\n",
    "    anim.save(name+'.mp4', fps=30, extra_args=['-vcodec', 'libx264'])\n",
    "    plt.show()"
   ]
  },
  {
   "cell_type": "code",
   "execution_count": 44,
   "metadata": {
    "collapsed": false
   },
   "outputs": [],
   "source": [
    "if __name__ == '__main__':\n",
    "    V_u,i_u,t_u = problem(1.0, 1.0,0.5, 10.0, 10.0, 1.0, 25.0, 250)\n",
    "    V_c,i_c,t_c = problem(1.0, 1.0,2.0, 10.0, 10.0, 1.0, 25.0, 250)\n",
    "    V_o,i_o,t_o = problem(1.0, 1.0,4.5, 10.0, 10.0, 1.0, 25.0, 250)\n",
    "    '''\n",
    "    plt.figure(1)\n",
    "    plt.plot(t_u,V_u,label = 'Under damped')\n",
    "    plt.plot(t_c,V_c,label = 'Critically damped')\n",
    "    plt.plot(t_o,V_o,label = 'Over damped')\n",
    "    plt.title('Voltage of capacitor with time')\n",
    "    plt.ylabel('Capacitor Voltage')\n",
    "    plt.xlabel('time')\n",
    "    plt.legend()\n",
    "    plt.savefig('VC.png')\n",
    "    plt.close()\n",
    "    #animate(t,V,'Voltage')'''\n",
    "    \n",
    "    R = 0.5\n",
    "    plt.figure(1)\n",
    "    plt.plot(t_u,V_u,label = 'Capacitor voltage for underdamped')\n",
    "    plt.plot(t_u,)"
   ]
  },
  {
   "cell_type": "code",
   "execution_count": null,
   "metadata": {
    "collapsed": true
   },
   "outputs": [],
   "source": []
  }
 ],
 "metadata": {
  "kernelspec": {
   "display_name": "Python 2",
   "language": "python",
   "name": "python2"
  },
  "language_info": {
   "codemirror_mode": {
    "name": "ipython",
    "version": 2
   },
   "file_extension": ".py",
   "mimetype": "text/x-python",
   "name": "python",
   "nbconvert_exporter": "python",
   "pygments_lexer": "ipython2",
   "version": "2.7.10"
  }
 },
 "nbformat": 4,
 "nbformat_minor": 0
}
